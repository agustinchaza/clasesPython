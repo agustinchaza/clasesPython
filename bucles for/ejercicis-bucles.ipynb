{
 "cells": [
  {
   "cell_type": "markdown",
   "metadata": {},
   "source": [
    "bucle for con rango:"
   ]
  },
  {
   "cell_type": "code",
   "execution_count": 1,
   "metadata": {},
   "outputs": [
    {
     "name": "stdout",
     "output_type": "stream",
     "text": [
      "0\n",
      "1\n",
      "2\n",
      "3\n",
      "4\n",
      "5\n",
      "6\n",
      "7\n",
      "8\n",
      "9\n"
     ]
    }
   ],
   "source": [
    "for i in range(10):\n",
    "    print(i)\n",
    "\n"
   ]
  },
  {
   "cell_type": "code",
   "execution_count": 2,
   "metadata": {},
   "outputs": [
    {
     "name": "stdout",
     "output_type": "stream",
     "text": [
      "-3\n",
      "-2\n",
      "-1\n",
      "0\n",
      "1\n",
      "2\n",
      "3\n",
      "4\n",
      "5\n",
      "6\n",
      "7\n",
      "8\n",
      "9\n"
     ]
    }
   ],
   "source": [
    "for i in range(-3,10):\n",
    "    print(i)"
   ]
  },
  {
   "cell_type": "code",
   "execution_count": 3,
   "metadata": {},
   "outputs": [
    {
     "name": "stdout",
     "output_type": "stream",
     "text": [
      "-3\n",
      "0\n",
      "3\n",
      "6\n",
      "9\n"
     ]
    }
   ],
   "source": [
    "for i in range(-3,10,3):\n",
    "    print(i)"
   ]
  },
  {
   "cell_type": "code",
   "execution_count": 5,
   "metadata": {},
   "outputs": [
    {
     "name": "stdout",
     "output_type": "stream",
     "text": [
      "hola\n",
      "como\n",
      "estas\n",
      "aaa\n",
      "MEssi\n",
      "cristiano\n"
     ]
    }
   ],
   "source": [
    "palabras = [\"hola\", \"como\", \"estas\", \"aaa\", \"MEssi\", \"cristiano\"]\n",
    "\n",
    "\n",
    "for i in range(len(palabras)):\n",
    "    print(palabras[i])"
   ]
  },
  {
   "cell_type": "markdown",
   "metadata": {},
   "source": [
    "Ejercicio 7: Contar Palabras con una Longitud Específica\n",
    "Escribe un programa que cuente cuántas palabras en una lista tienen una longitud específica ingresada por el usuario\n",
    "\n"
   ]
  },
  {
   "cell_type": "code",
   "execution_count": 9,
   "metadata": {},
   "outputs": [
    {
     "name": "stdout",
     "output_type": "stream",
     "text": [
      "hay 2 palabras de longitud 4 \n"
     ]
    }
   ],
   "source": [
    "palabras = [\"hola\", \"como\", \"estas\", \"aaa\", \"MEssi\", \"cristiano\"]\n",
    "\n",
    "longitud=int(input(\"Ingrese la longitud de la palabra: \"))\n",
    "\n",
    "contador=0\n",
    "\n",
    "for palabra in palabras:\n",
    "    if len(palabra)==longitud:\n",
    "        contador+=1\n",
    "\n",
    "\n",
    "print(f\"hay {contador} palabras de longitud {longitud} \")\n",
    "        \n",
    "\n"
   ]
  }
 ],
 "metadata": {
  "kernelspec": {
   "display_name": "Python 3",
   "language": "python",
   "name": "python3"
  },
  "language_info": {
   "codemirror_mode": {
    "name": "ipython",
    "version": 3
   },
   "file_extension": ".py",
   "mimetype": "text/x-python",
   "name": "python",
   "nbconvert_exporter": "python",
   "pygments_lexer": "ipython3",
   "version": "3.10.13"
  }
 },
 "nbformat": 4,
 "nbformat_minor": 2
}
